{
  "nbformat": 4,
  "nbformat_minor": 0,
  "metadata": {
    "colab": {
      "name": "0509.ipynb",
      "provenance": [],
      "authorship_tag": "ABX9TyNwbqOx+h/ehh/n2NZKVjsa",
      "include_colab_link": true
    },
    "kernelspec": {
      "name": "python3",
      "display_name": "Python 3"
    },
    "language_info": {
      "name": "python"
    }
  },
  "cells": [
    {
      "cell_type": "markdown",
      "metadata": {
        "id": "view-in-github",
        "colab_type": "text"
      },
      "source": [
        "<a href=\"https://colab.research.google.com/github/Yungchi1020/Introduction-to-Computers/blob/main/0509.ipynb\" target=\"_parent\"><img src=\"https://colab.research.google.com/assets/colab-badge.svg\" alt=\"Open In Colab\"/></a>"
      ]
    },
    {
      "cell_type": "code",
      "execution_count": 6,
      "metadata": {
        "id": "42a75LuE7z06",
        "colab": {
          "base_uri": "https://localhost:8080/"
        },
        "outputId": "d69bc394-2fa0-4967-f777-7fccab469543"
      },
      "outputs": [
        {
          "output_type": "stream",
          "name": "stdout",
          "text": [
            "請輸入你的體溫37.4\n",
            "體溫略高!\n"
          ]
        }
      ],
      "source": [
        "temp = float(input(\"請輸入你的體溫\"))\n",
        "if temp >=37.5:\n",
        "  print(\"體溫過高!\")\n",
        "elif temp >=37 and temp<=37.4:\n",
        "  print(\"體溫略高!\")\n",
        "elif temp >=34 and temp<=36.9:\n",
        "  print(\"體溫正常!\")\n",
        "\n",
        "else:\n",
        "  print(\"體溫異常,請充新量測\")\n"
      ]
    },
    {
      "cell_type": "code",
      "source": [
        "g = int(input(\"請輸入成績\"))\n",
        "if g>=90:\n",
        "  print(\"A\")\n",
        "elif g<90 and g>=80:\n",
        "  print(\"B\")\n",
        "elif g<80 and g>=70:\n",
        "  print(\"C\")\n",
        "elif g<70 and g>=60:\n",
        "  print(\"D\")\n",
        "else:\n",
        "  print(\"E\")\n",
        "  "
      ],
      "metadata": {
        "colab": {
          "base_uri": "https://localhost:8080/"
        },
        "id": "b9w5UfYN_uTG",
        "outputId": "d15d7ec0-3e14-4e81-8fd1-8103138210d6"
      },
      "execution_count": 10,
      "outputs": [
        {
          "output_type": "stream",
          "name": "stdout",
          "text": [
            "請輸入成績50\n",
            "E\n"
          ]
        }
      ]
    },
    {
      "cell_type": "code",
      "source": [
        "money = int(input(\"請輸入購物金額:\"))\n",
        "if (money>=100000):\n",
        "  print(\"八折\",money*0.8,\"元\")\n",
        "elif (money>=50000):\n",
        "  print(\"八五折\",money*0.85,\"元\")\n",
        "elif (money>=30000):\n",
        "  print(\"九折\",money*0.9,\"元\")\n",
        "elif (money>=10000):\n",
        "    print(\"九五折\",money*0.95,\"元\")\n",
        "else:\n",
        "  print(\"沒打折\",money,\"元\")\n"
      ],
      "metadata": {
        "colab": {
          "base_uri": "https://localhost:8080/"
        },
        "id": "iMKQX_zjEOYY",
        "outputId": "91cf4d19-f04b-4280-df3f-67f41233cc5d"
      },
      "execution_count": 45,
      "outputs": [
        {
          "output_type": "stream",
          "name": "stdout",
          "text": [
            "請輸入購物金額:100000\n",
            "八折 80000.0 元\n"
          ]
        }
      ]
    },
    {
      "cell_type": "code",
      "source": [
        "m = int(input(\"請輸入月份:\"))\n",
        "if m>=3 and m<=5:\n",
        "  print(m,\"月是春天!\")\n",
        "elif m>=6 and m<=8:\n",
        "  print(m,\"月是夏天!\")\n",
        "elif m>=9 and m<=11:\n",
        "  print(m,\"月是秋天!\")\n",
        "elif m>=12 and m<=2:\n",
        "  print(m,\"月是冬天!\")\n",
        "else:\n",
        "  print(\"月份不再範圍內\")\n"
      ],
      "metadata": {
        "colab": {
          "base_uri": "https://localhost:8080/"
        },
        "id": "JzuEl3wDJPYZ",
        "outputId": "445521de-9983-4ccb-f8e2-c4394f876255"
      },
      "execution_count": 35,
      "outputs": [
        {
          "output_type": "stream",
          "name": "stdout",
          "text": [
            "請輸入月份:6\n",
            "6 月是夏天!\n"
          ]
        }
      ]
    },
    {
      "cell_type": "code",
      "source": [
        "m = float(input(\"請輸入今年收入淨額:\"))\n",
        "if m>=2000000:\n",
        "  print(\"賦稅金額:\", m*0.3 ,\"元\")\n",
        "elif m>=1000000:\n",
        "  print(\"賦稅金額:\", m*0.21 ,\"元\")\n",
        "elif m>=600000:\n",
        "  print(\"賦稅金額:\", m*0.13 ,\"元\")\n",
        "elif m>=300000:\n",
        "  print(\"賦稅金額:\", m*0.06 ,\"元\")\n",
        "else:\n",
        "  print(\"不須繳納\")"
      ],
      "metadata": {
        "colab": {
          "base_uri": "https://localhost:8080/"
        },
        "id": "gSNbZafCLUaZ",
        "outputId": "7c127ef4-8d52-4bef-8886-6dc4de850c75"
      },
      "execution_count": 41,
      "outputs": [
        {
          "output_type": "stream",
          "name": "stdout",
          "text": [
            "請輸入今年收入淨額:2000000\n",
            "賦稅金額: 600000.0 元\n"
          ]
        }
      ]
    }
  ]
}